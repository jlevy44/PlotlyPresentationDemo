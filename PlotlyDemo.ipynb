{
 "cells": [
  {
   "cell_type": "markdown",
   "metadata": {},
   "source": [
    "# Set-up"
   ]
  },
  {
   "cell_type": "markdown",
   "metadata": {},
   "source": [
    "### 1. Install Prerequisite Libraries\n",
    "* python-igraph  \n",
    "* scikit-learn \n",
    "* umap-learn \n",
    "* plotly \n",
    "* shap \n",
    "* pandas  \n",
    "* numpy \n",
    "* scipy \n",
    "\n",
    "Also make sure jupyter notebook with Python 3.6 Kernel is installed and that you are using python 3. https://ipython.readthedocs.io/en/latest/install/kernel_install.html"
   ]
  },
  {
   "cell_type": "markdown",
   "metadata": {},
   "source": [
    "### 2. Decompress texts.pkl.zip"
   ]
  },
  {
   "cell_type": "markdown",
   "metadata": {},
   "source": [
    "### 3. Load Libraries"
   ]
  },
  {
   "cell_type": "code",
   "execution_count": 104,
   "metadata": {},
   "outputs": [],
   "source": [
    "import igraph as ig # python-igraph\n",
    "import json\n",
    "import urllib3\n",
    "import pickle\n",
    "from sklearn.feature_extraction.text import TfidfVectorizer, CountVectorizer, TfidfTransformer\n",
    "from collections import Counter\n",
    "import numpy as np\n",
    "import pandas as pd\n",
    "from umap import UMAP\n",
    "from sklearn.decomposition import KernelPCA as KPCA\n",
    "from sklearn.pipeline import Pipeline\n",
    "import plotly.graph_objs as go\n",
    "import plotly.offline as py\n",
    "import shap\n",
    "from sklearn.ensemble import RandomForestClassifier \n",
    "from sklearn.model_selection import train_test_split\n",
    "from sklearn.preprocessing import LabelEncoder"
   ]
  },
  {
   "cell_type": "markdown",
   "metadata": {},
   "source": [
    "# Demo 1: 3-D Network Visualization of Les Miserables Characters"
   ]
  },
  {
   "cell_type": "markdown",
   "metadata": {},
   "source": [
    "### 1. Load Network Graph Data"
   ]
  },
  {
   "cell_type": "code",
   "execution_count": 105,
   "metadata": {},
   "outputs": [
    {
     "name": "stderr",
     "output_type": "stream",
     "text": [
      "/anaconda2/envs/py36/lib/python3.6/site-packages/urllib3/connectionpool.py:857: InsecureRequestWarning:\n",
      "\n",
      "Unverified HTTPS request is being made. Adding certificate verification is strongly advised. See: https://urllib3.readthedocs.io/en/latest/advanced-usage.html#ssl-warnings\n",
      "\n"
     ]
    }
   ],
   "source": [
    "data = []\n",
    "http = urllib3.PoolManager()\n",
    "req = http.request('GET',\"https://raw.githubusercontent.com/plotly/datasets/master/miserables.json\")\n",
    "data = json.loads(req.data)"
   ]
  },
  {
   "cell_type": "markdown",
   "metadata": {},
   "source": [
    "### 2. Generate Graph"
   ]
  },
  {
   "cell_type": "code",
   "execution_count": 106,
   "metadata": {},
   "outputs": [],
   "source": [
    "G = generate_graph(data)"
   ]
  },
  {
   "cell_type": "markdown",
   "metadata": {},
   "source": [
    "### 3. Plot Les Miserables Network"
   ]
  },
  {
   "cell_type": "code",
   "execution_count": 107,
   "metadata": {},
   "outputs": [],
   "source": [
    "plot_les_miserables(data, G, 'Les-Miserables.html')\n",
    "    "
   ]
  },
  {
   "cell_type": "markdown",
   "metadata": {},
   "source": [
    "# Demo 2: 3-D Book Clustering By Shared Words \n",
    "Book is a data point and the closer it is to another book, the more shared content"
   ]
  },
  {
   "cell_type": "markdown",
   "metadata": {},
   "source": [
    "### 1. Load Texts"
   ]
  },
  {
   "cell_type": "code",
   "execution_count": 10,
   "metadata": {},
   "outputs": [],
   "source": [
    "txts=pd.read_pickle(\"./texts.pkl\")"
   ]
  },
  {
   "cell_type": "markdown",
   "metadata": {},
   "source": [
    "### 2. Create TFIDF matrix"
   ]
  },
  {
   "cell_type": "code",
   "execution_count": 11,
   "metadata": {},
   "outputs": [],
   "source": [
    "tfidf_matrix, words = return_tfidf_matrix(txts)\n",
    "words=np.squeeze(words)"
   ]
  },
  {
   "cell_type": "markdown",
   "metadata": {},
   "source": [
    "### 3. Transform Data using UMAP"
   ]
  },
  {
   "cell_type": "code",
   "execution_count": 108,
   "metadata": {},
   "outputs": [
    {
     "name": "stderr",
     "output_type": "stream",
     "text": [
      "/anaconda2/envs/py36/lib/python3.6/site-packages/sklearn/metrics/pairwise.py:259: RuntimeWarning:\n",
      "\n",
      "invalid value encountered in sqrt\n",
      "\n"
     ]
    }
   ],
   "source": [
    "t_data = transform(tfidf_matrix)\n"
   ]
  },
  {
   "cell_type": "markdown",
   "metadata": {},
   "source": [
    "### 4. Load Transformed Data into DataFrame"
   ]
  },
  {
   "cell_type": "code",
   "execution_count": 109,
   "metadata": {},
   "outputs": [],
   "source": [
    "t_data_df = pd.DataFrame(np.vstack((txts['author'].values,txts['title'].values,t_data.T)).T,columns=['author','title','x','y','z'])\n"
   ]
  },
  {
   "cell_type": "markdown",
   "metadata": {},
   "source": [
    "### 5. Plot Document Clusters"
   ]
  },
  {
   "cell_type": "code",
   "execution_count": 110,
   "metadata": {},
   "outputs": [],
   "source": [
    "plotly_plot(t_data_df, 'book_clusters.html', False, 'title', 'author')\n"
   ]
  },
  {
   "cell_type": "markdown",
   "metadata": {},
   "source": [
    "# Demo 3: Find Words that Differentiate Authors' Works\n",
    "Make a bar plot of most important words that define each author.\n",
    "This will be an interactive tutorial in creating a simple plotly plot."
   ]
  },
  {
   "cell_type": "markdown",
   "metadata": {},
   "source": [
    "### 1. Return Data Frame Containing top words and scores per author"
   ]
  },
  {
   "cell_type": "code",
   "execution_count": 96,
   "metadata": {},
   "outputs": [],
   "source": [
    "top_words_per_author=return_top_words_per_author_pipeline(txts, tfidf_matrix)"
   ]
  },
  {
   "cell_type": "markdown",
   "metadata": {},
   "source": [
    "### 2. Visualize Head of Data Frame"
   ]
  },
  {
   "cell_type": "code",
   "execution_count": 97,
   "metadata": {},
   "outputs": [
    {
     "data": {
      "text/html": [
       "<div>\n",
       "<style scoped>\n",
       "    .dataframe tbody tr th:only-of-type {\n",
       "        vertical-align: middle;\n",
       "    }\n",
       "\n",
       "    .dataframe tbody tr th {\n",
       "        vertical-align: top;\n",
       "    }\n",
       "\n",
       "    .dataframe thead th {\n",
       "        text-align: right;\n",
       "    }\n",
       "</style>\n",
       "<table border=\"1\" class=\"dataframe\">\n",
       "  <thead>\n",
       "    <tr style=\"text-align: right;\">\n",
       "      <th></th>\n",
       "      <th>author</th>\n",
       "      <th>top_words</th>\n",
       "      <th>top_scores</th>\n",
       "    </tr>\n",
       "  </thead>\n",
       "  <tbody>\n",
       "    <tr>\n",
       "      <th>0</th>\n",
       "      <td>Balzac, Honoré de</td>\n",
       "      <td>balzac</td>\n",
       "      <td>0.018426</td>\n",
       "    </tr>\n",
       "    <tr>\n",
       "      <th>1</th>\n",
       "      <td>Balzac, Honoré de</td>\n",
       "      <td>provincial</td>\n",
       "      <td>0.012286</td>\n",
       "    </tr>\n",
       "    <tr>\n",
       "      <th>2</th>\n",
       "      <td>Balzac, Honoré de</td>\n",
       "      <td>honore</td>\n",
       "      <td>0.011195</td>\n",
       "    </tr>\n",
       "    <tr>\n",
       "      <th>3</th>\n",
       "      <td>Balzac, Honoré de</td>\n",
       "      <td>addendum</td>\n",
       "      <td>0.008491</td>\n",
       "    </tr>\n",
       "    <tr>\n",
       "      <th>4</th>\n",
       "      <td>Balzac, Honoré de</td>\n",
       "      <td>courtesan</td>\n",
       "      <td>0.007811</td>\n",
       "    </tr>\n",
       "  </tbody>\n",
       "</table>\n",
       "</div>"
      ],
      "text/plain": [
       "              author   top_words  top_scores\n",
       "0  Balzac, Honoré de      balzac    0.018426\n",
       "1  Balzac, Honoré de  provincial    0.012286\n",
       "2  Balzac, Honoré de      honore    0.011195\n",
       "3  Balzac, Honoré de    addendum    0.008491\n",
       "4  Balzac, Honoré de   courtesan    0.007811"
      ]
     },
     "execution_count": 97,
     "metadata": {},
     "output_type": "execute_result"
    }
   ],
   "source": [
    "top_words_per_author.head()"
   ]
  },
  {
   "cell_type": "markdown",
   "metadata": {},
   "source": [
    "### 3. Create function that inputs author name and data frame and returns a \"Bar\" plotly object"
   ]
  },
  {
   "cell_type": "code",
   "execution_count": null,
   "metadata": {},
   "outputs": [],
   "source": [
    "# Fill in\n",
    "def create_plot_object(author,df):\n",
    "    plot = go.Bar(x=,y=,name=,text=)\n",
    "    return plot"
   ]
  },
  {
   "cell_type": "code",
   "execution_count": 98,
   "metadata": {},
   "outputs": [],
   "source": [
    "# Answer\n",
    "def create_plot_object(author,df):\n",
    "    plot = go.Bar(x=df['top_words'],y=df['top_scores'],name=author,text=df['top_words'])\n",
    "    return plot"
   ]
  },
  {
   "cell_type": "markdown",
   "metadata": {},
   "source": [
    "### 4. Create list of bar plot objects"
   ]
  },
  {
   "cell_type": "code",
   "execution_count": null,
   "metadata": {},
   "outputs": [],
   "source": [
    "plots = []\n",
    "\n",
    "for author,df in top_words_per_author.groupby('author'):\n",
    "    # Fill in here"
   ]
  },
  {
   "cell_type": "code",
   "execution_count": 99,
   "metadata": {},
   "outputs": [],
   "source": [
    "# Answer\n",
    "\n",
    "plots = []\n",
    "\n",
    "for author,df in top_words_per_author.groupby('author'):\n",
    "    plot = create_plot_object(author,df)\n",
    "    plots.append(plot)\n",
    "    "
   ]
  },
  {
   "cell_type": "markdown",
   "metadata": {},
   "source": [
    "### 5. Generate Layout Object that Formats Plots"
   ]
  },
  {
   "cell_type": "code",
   "execution_count": null,
   "metadata": {},
   "outputs": [],
   "source": [
    "# Fill in\n",
    "layout = go.Layout(\n",
    "    barmode='group',\n",
    "    title=,\n",
    "    yaxis={'title':},\n",
    "    xaxis={'title':},\n",
    ")"
   ]
  },
  {
   "cell_type": "code",
   "execution_count": 100,
   "metadata": {},
   "outputs": [],
   "source": [
    "# Answer\n",
    "layout = go.Layout(\n",
    "    barmode='group',\n",
    "    title='Top Word Importances for Each Author',\n",
    "    yaxis={'title':'Mean SHAP Score'},\n",
    "    xaxis={'title':'Words'},\n",
    ")\n"
   ]
  },
  {
   "cell_type": "markdown",
   "metadata": {},
   "source": [
    "### 6. Create Figure Object that stores data (bar plot objects) and layout object"
   ]
  },
  {
   "cell_type": "code",
   "execution_count": null,
   "metadata": {},
   "outputs": [],
   "source": [
    "# Fill in\n",
    "fig = go.Figure(data=, layout=)\n"
   ]
  },
  {
   "cell_type": "code",
   "execution_count": 101,
   "metadata": {},
   "outputs": [],
   "source": [
    "# Answer\n",
    "fig = go.Figure(data=plots, layout=layout)"
   ]
  },
  {
   "cell_type": "markdown",
   "metadata": {},
   "source": [
    "### 7. Plot Figure Object"
   ]
  },
  {
   "cell_type": "code",
   "execution_count": null,
   "metadata": {},
   "outputs": [],
   "source": [
    "# Fill in\n",
    "py.plot(, filename=, auto_open=False)"
   ]
  },
  {
   "cell_type": "code",
   "execution_count": 102,
   "metadata": {},
   "outputs": [
    {
     "data": {
      "text/plain": [
       "'file:///Users/joshualevy/Documents/GitHub/plotly_presentation/SHAP-Top-Words-Authors.html'"
      ]
     },
     "execution_count": 102,
     "metadata": {},
     "output_type": "execute_result"
    }
   ],
   "source": [
    "# Answer\n",
    "py.plot(fig, filename='SHAP-Top-Words-Authors.html', auto_open=False)"
   ]
  },
  {
   "cell_type": "markdown",
   "metadata": {},
   "source": [
    "# Functions"
   ]
  },
  {
   "cell_type": "code",
   "execution_count": 95,
   "metadata": {},
   "outputs": [],
   "source": [
    "def generate_graph(data):\n",
    "    L=len(data['links'])\n",
    "    \n",
    "    Edges=[(data['links'][k]['source'], data['links'][k]['target']) for k in range(L)]\n",
    "\n",
    "    G=ig.Graph(Edges, directed=False)\n",
    "    adjacency_matrix=np.array(list(G.get_adjacency()))\n",
    "    return G\n",
    "\n",
    "def plot_les_miserables(data, G, filename='Les-Miserables.html'):\n",
    "    N=len(data['nodes'])\n",
    "    L=len(data['links'])\n",
    "    Edges=[(data['links'][k]['source'], data['links'][k]['target']) for k in range(L)]\n",
    "    labels=[]\n",
    "    group=[]\n",
    "    for node in data['nodes']:\n",
    "        labels.append(node['name'])\n",
    "        group.append(node['group'])\n",
    "    layt=G.layout('kk', dim=3) \n",
    "    Xn=[layt[k][0] for k in range(N)]# x-coordinates of nodes\n",
    "    Yn=[layt[k][1] for k in range(N)]# y-coordinates\n",
    "    Zn=[layt[k][2] for k in range(N)]# z-coordinates\n",
    "    Xe=[]\n",
    "    Ye=[]\n",
    "    Ze=[]\n",
    "    for e in Edges:\n",
    "        Xe+=[layt[e[0]][0],layt[e[1]][0], None]# x-coordinates of edge ends\n",
    "        Ye+=[layt[e[0]][1],layt[e[1]][1], None]  \n",
    "        Ze+=[layt[e[0]][2],layt[e[1]][2], None]  \n",
    "\n",
    "    trace1=go.Scatter3d(x=Xe,\n",
    "                   y=Ye,\n",
    "                   z=Ze,\n",
    "                   mode='lines',\n",
    "                   line=dict(color='rgb(125,125,125)', width=1),\n",
    "                   hoverinfo='none'\n",
    "                   )\n",
    "\n",
    "    trace2=go.Scatter3d(x=Xn,\n",
    "                   y=Yn,\n",
    "                   z=Zn,\n",
    "                   mode='markers',\n",
    "                   name='actors',\n",
    "                   marker=dict(symbol='circle',\n",
    "                                 size=6,\n",
    "                                 color=group,\n",
    "                                 colorscale='Viridis',\n",
    "                                 line=dict(color='rgb(50,50,50)', width=0.5)\n",
    "                                 ),\n",
    "                   text=labels,\n",
    "                   hoverinfo='text'\n",
    "                   )\n",
    "\n",
    "    axis=dict(showbackground=False,\n",
    "              showline=False,\n",
    "              zeroline=False,\n",
    "              showgrid=False,\n",
    "              showticklabels=False,\n",
    "              title=''\n",
    "              )\n",
    "\n",
    "    layout = go.Layout(\n",
    "             title=\"Network of coappearances of characters in Victor Hugo's novel<br> Les Miserables (3D visualization)\",\n",
    "             width=1000,\n",
    "             height=1000,\n",
    "             showlegend=False,\n",
    "             scene=dict(\n",
    "                 xaxis=dict(axis),\n",
    "                 yaxis=dict(axis),\n",
    "                 zaxis=dict(axis),\n",
    "            ),\n",
    "         margin=dict(\n",
    "            t=100\n",
    "        ),\n",
    "        hovermode='closest',\n",
    "        annotations=[\n",
    "               dict(\n",
    "               showarrow=False,\n",
    "                text=\"Data source: <a href='http://bost.ocks.org/mike/miserables/miserables.json'>[1] miserables.json</a>\",\n",
    "                xref='paper',\n",
    "                yref='paper',\n",
    "                x=0,\n",
    "                y=0.1,\n",
    "                xanchor='left',\n",
    "                yanchor='bottom',\n",
    "                font=dict(\n",
    "                size=14\n",
    "                )\n",
    "                )\n",
    "            ],    )\n",
    "    data=[trace1, trace2]\n",
    "    fig=go.Figure(data=data, layout=layout)\n",
    "\n",
    "    py.plot(fig, filename=filename, auto_open=False)\n",
    "    \n",
    "def return_tfidf_matrix(txts):\n",
    "    count_vectorizer = CountVectorizer(stop_words='english')\n",
    "    count_vectorizer.fit(txts['text'])\n",
    "    initial_count_matrix = count_vectorizer.transform(txts['text'])\n",
    "    feature_names = np.array(count_vectorizer.get_feature_names())\n",
    "    count_matrix = TfidfTransformer().fit_transform(initial_count_matrix)\n",
    "    return count_matrix, feature_names\n",
    "\n",
    "def transform(tfidf_matrix):\n",
    "    transformer_pipeline = Pipeline([('umap',UMAP(n_components=3,n_neighbors=10, min_dist=.4))])\n",
    "    t_data = transformer_pipeline.fit_transform(tfidf_matrix)\n",
    "    return t_data\n",
    "\n",
    "def plotly_plot(t_data_df, output_fname, axes_off=False, text_column='text', color_column=None):\n",
    "    plots = []\n",
    "    if color_column == None:\n",
    "        plots.append(\n",
    "            go.Scatter3d(x=t_data_df['x'], y=t_data_df['y'],\n",
    "                         z=t_data_df['z'],\n",
    "                         name='', mode='markers',\n",
    "                         marker=dict(color=t_data_df[color_column], size=2, colorscale='Viridis',\n",
    "                         colorbar=dict(title='Colorbar')), text=t_data_df[text_column]))\n",
    "    else:\n",
    "        \n",
    "        colors = t_data_df[color_column].unique()\n",
    "        c = ['hsl(' + str(h) + ',50%' + ',50%)' for h in np.linspace(0, 360, len(colors) + 2)]\n",
    "        color_dict = {name: c[i] for i,name in enumerate(sorted(colors))}\n",
    "\n",
    "        for name,col in color_dict.items():\n",
    "            plots.append(\n",
    "                go.Scatter3d(x=t_data_df['x'][t_data_df[color_column]==name], y=t_data_df['y'][t_data_df[color_column]==name],\n",
    "                             z=t_data_df['z'][t_data_df[color_column]==name],\n",
    "                             name=str(name), mode='markers',\n",
    "                             marker=dict(color=col, size=2), text=t_data_df[text_column][t_data_df[color_column]==name]))\n",
    "    if axes_off:\n",
    "        fig = go.Figure(data=plots,layout=go.Layout(scene=dict(xaxis=dict(title='',autorange=True,showgrid=False,zeroline=False,showline=False,ticks='',showticklabels=False),\n",
    "            yaxis=dict(title='',autorange=True,showgrid=False,zeroline=False,showline=False,ticks='',showticklabels=False),\n",
    "            zaxis=dict(title='',autorange=True,showgrid=False,zeroline=False,showline=False,ticks='',showticklabels=False))))\n",
    "    else:\n",
    "        fig = go.Figure(data=plots)\n",
    "    py.plot(fig, filename=output_fname, auto_open=False)\n",
    "    \n",
    "def generate_model(txts, tfidf_matrix):\n",
    "    le = LabelEncoder()\n",
    "    le.fit(txts['author'].values)\n",
    "    y=le.transform(txts['author'].values)\n",
    "    model=RandomForestClassifier(n_estimators=100)\n",
    "    model.fit(tfidf_matrix,y)\n",
    "    return model, le\n",
    "\n",
    "def return_top_word_importances(tfidf_matrix, model):\n",
    "    explainer=shap.TreeExplainer(model)\n",
    "    shap_values = explainer.shap_values(tfidf_matrix.toarray())\n",
    "    return shap_values\n",
    "\n",
    "def return_top_words_per_author(shap_matrix,txts,le):\n",
    "    top_words_dict={}\n",
    "    for author in txts['author'].unique():\n",
    "        shap_matrix_subset = shap_matrix[le.transform([author])[0]][np.isin(txts['author'],author),:]\n",
    "        mean_shap=np.squeeze(np.asarray(shap_matrix_subset.mean(0)))\n",
    "        sorted_shap_idx=np.argsort(mean_shap*-1)\n",
    "        top_words = words[sorted_shap_idx][:30]\n",
    "        top_shap = mean_shap[sorted_shap_idx][:30]\n",
    "        top_words_dict[author]=pd.DataFrame(dict(top_words=top_words,top_scores=top_shap))\n",
    "        top_words_dict[author]['author']=author\n",
    "    df=pd.concat(list(top_words_dict.values()))[['author','top_words','top_scores']]\n",
    "    return df\n",
    "\n",
    "def return_top_words_per_author_pipeline(txts, tfidf_matrix):\n",
    "    model, label_encoder=generate_model(txts, tfidf_matrix)\n",
    "    top_word_importances = return_top_word_importances(tfidf_matrix, model)\n",
    "    top_words_per_author = return_top_words_per_author(top_word_importances,txts,label_encoder)\n",
    "    return top_words_per_author"
   ]
  }
 ],
 "metadata": {
  "kernelspec": {
   "display_name": "Python 3",
   "language": "python",
   "name": "python3"
  },
  "language_info": {
   "codemirror_mode": {
    "name": "ipython",
    "version": 3
   },
   "file_extension": ".py",
   "mimetype": "text/x-python",
   "name": "python",
   "nbconvert_exporter": "python",
   "pygments_lexer": "ipython3",
   "version": "3.6.7"
  }
 },
 "nbformat": 4,
 "nbformat_minor": 2
}
